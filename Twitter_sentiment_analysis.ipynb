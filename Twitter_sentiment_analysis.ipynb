{
  "nbformat": 4,
  "nbformat_minor": 0,
  "metadata": {
    "colab": {
      "provenance": [],
      "authorship_tag": "ABX9TyPq3KgXgC6FK7JRZIT0pduF",
      "include_colab_link": true
    },
    "kernelspec": {
      "name": "python3",
      "display_name": "Python 3"
    },
    "language_info": {
      "name": "python"
    }
  },
  "cells": [
    {
      "cell_type": "markdown",
      "metadata": {
        "id": "view-in-github",
        "colab_type": "text"
      },
      "source": [
        "<a href=\"https://colab.research.google.com/github/kipsangmarion/NLTK-twitter-sentiment-analysis/blob/main/Twitter_sentiment_analysis.ipynb\" target=\"_parent\"><img src=\"https://colab.research.google.com/assets/colab-badge.svg\" alt=\"Open In Colab\"/></a>"
      ]
    },
    {
      "cell_type": "markdown",
      "source": [
        "# Twitter Sentiment Analysis"
      ],
      "metadata": {
        "id": "fLzWMM1c2E5j"
      }
    },
    {
      "cell_type": "markdown",
      "source": [
        "I will use NLTK to perform sentiment analysis on the twitter dataset from NLTK"
      ],
      "metadata": {
        "id": "-vKHhRdu2JLw"
      }
    },
    {
      "cell_type": "markdown",
      "source": [
        "## 1. Import necessary libraries"
      ],
      "metadata": {
        "id": "LPGhOZCR2WNS"
      }
    },
    {
      "cell_type": "code",
      "source": [
        "import nltk\n",
        "import random\n",
        "from nltk.corpus import twitter_samples\n",
        "nltk.download('twitter_samples')\n",
        "nltk.download('punkt')\n",
        "nltk.download('words')"
      ],
      "metadata": {
        "colab": {
          "base_uri": "https://localhost:8080/"
        },
        "id": "uJPvYaIO2d2N",
        "outputId": "d8ad51cc-7fdc-4126-9419-67a209be997b"
      },
      "execution_count": 26,
      "outputs": [
        {
          "output_type": "stream",
          "name": "stderr",
          "text": [
            "[nltk_data] Downloading package twitter_samples to /root/nltk_data...\n",
            "[nltk_data]   Package twitter_samples is already up-to-date!\n",
            "[nltk_data] Downloading package punkt to /root/nltk_data...\n",
            "[nltk_data]   Package punkt is already up-to-date!\n",
            "[nltk_data] Downloading package words to /root/nltk_data...\n",
            "[nltk_data]   Package words is already up-to-date!\n"
          ]
        },
        {
          "output_type": "execute_result",
          "data": {
            "text/plain": [
              "True"
            ]
          },
          "metadata": {},
          "execution_count": 26
        }
      ]
    },
    {
      "cell_type": "markdown",
      "source": [
        "## 2. Load the twitter samples dataset"
      ],
      "metadata": {
        "id": "HXrRx2Ah2gfm"
      }
    },
    {
      "cell_type": "code",
      "source": [
        "# Access positive and negative tweets\n",
        "positive_tweets = twitter_samples.strings('positive_tweets.json')\n",
        "negative_tweets = twitter_samples.strings('negative_tweets.json')\n",
        "\n",
        "# Combine positive and negative tweets\n",
        "all_tweets = [(tweet, 'positive') for tweet in positive_tweets] + [(tweet, 'negative') for tweet in negative_tweets]\n",
        "\n",
        "# Shuffle the combined list of tweets\n",
        "random.shuffle(all_tweets)"
      ],
      "metadata": {
        "id": "AQL9cFKk2nwo"
      },
      "execution_count": 27,
      "outputs": []
    },
    {
      "cell_type": "markdown",
      "source": [
        "## 3. Tokenize the dataset"
      ],
      "metadata": {
        "id": "Lx84TPEr24_t"
      }
    },
    {
      "cell_type": "code",
      "source": [
        "# Tokenize each tweet\n",
        "tokenized_tweets = [(nltk.word_tokenize(tweet), sentiment) for (tweet, sentiment) in all_tweets]"
      ],
      "metadata": {
        "id": "s_P-5z4T2_Wz"
      },
      "execution_count": 28,
      "outputs": []
    },
    {
      "cell_type": "markdown",
      "source": [
        "## 4. Extract features"
      ],
      "metadata": {
        "id": "BSVpEXLl3KzL"
      }
    },
    {
      "cell_type": "code",
      "source": [
        "# Flatten the list of tokens\n",
        "all_words = [word.lower() for tweet, _ in tokenized_tweets for word in tweet]\n",
        "\n",
        "# Get the most common words as features\n",
        "word_features = nltk.FreqDist(all_words).most_common(2000)\n",
        "\n",
        "# Extract just the words from the tuples\n",
        "word_features = [word for word, _ in word_features]\n",
        "\n",
        "# Define a function to extract features (bag-of-words model)\n",
        "def extract_features(tweet_tokens):\n",
        "    tweet_words = set(tweet_tokens)\n",
        "    features = {}\n",
        "    for word in word_features:\n",
        "        features['contains({})'.format(word)] = (word in tweet_words)\n",
        "    return features\n",
        "\n",
        "# Create feature sets\n",
        "feature_sets = [(extract_features(tweet), sentiment) for tweet, sentiment in tokenized_tweets]\n",
        "\n",
        "# Print an example feature set\n",
        "print(feature_sets[0])"
      ],
      "metadata": {
        "colab": {
          "base_uri": "https://localhost:8080/"
        },
        "id": "IiX7ExBD9AHw",
        "outputId": "bed0613f-5c3b-445a-d286-c25e6c4981f9"
      },
      "execution_count": 29,
      "outputs": [
        {
          "output_type": "stream",
          "name": "stdout",
          "text": [
            "({'contains(:)': True, 'contains(@)': True, 'contains(()': False, 'contains())': True, 'contains(i)': False, 'contains(!)': False, 'contains(you)': False, 'contains(.)': True, 'contains(#)': False, 'contains(to)': True, 'contains(the)': False, 'contains(,)': False, 'contains(a)': False, 'contains(-)': False, 'contains(and)': False, 'contains(it)': False, 'contains(my)': False, 'contains(http)': False, 'contains(?)': False, 'contains(for)': False, 'contains(me)': True, 'contains(is)': False, 'contains(in)': False, \"contains('s)\": False, 'contains(so)': False, \"contains(n't)\": False, 'contains(have)': False, 'contains(of)': False, 'contains(that)': True, 'contains(;)': False, 'contains(d)': False, 'contains(on)': False, 'contains(this)': False, 'contains(but)': False, 'contains(&)': False, 'contains(do)': False, \"contains('m)\": False, 'contains(https)': False, 'contains(be)': False, 'contains(we)': False, 'contains(thanks)': False, 'contains(your)': True, 'contains(...)': False, 'contains(not)': False, 'contains(follow)': False, 'contains(no)': False, 'contains(u)': False, 'contains(just)': False, 'contains(like)': False, 'contains(all)': False, 'contains(with)': False, 'contains(love)': False, 'contains(was)': False, 'contains(are)': False, 'contains(please)': False, 'contains(at)': False, 'contains(too)': False, 'contains(can)': False, 'contains(get)': False, 'contains(good)': False, 'contains(up)': False, 'contains(day)': False, 'contains(now)': False, 'contains(want)': False, 'contains(back)': False, 'contains(what)': False, 'contains(know)': False, 'contains(if)': False, 'contains(will)': False, 'contains(amp)': False, 'contains(see)': False, 'contains(thank)': False, 'contains(one)': False, 'contains(miss)': False, 'contains(time)': False, \"contains('')\": False, 'contains(..)': False, 'contains(``)': False, 'contains(out)': False, 'contains(na)': False, 'contains(when)': False, 'contains(they)': False, 'contains(much)': False, 'contains(today)': False, 'contains(ca)': False, \"contains('re)\": False, 'contains(he)': False, 'contains(happy)': True, 'contains(go)': False, 'contains(about)': False, 'contains(3)': False, 'contains(really)': False, 'contains(why)': False, 'contains(there)': False, \"contains('ll)\": True, 'contains(hi)': False, 'contains(from)': False, 'contains(here)': False, 'contains(lt)': False, 'contains(new)': False, 'contains(did)': False, 'contains(hope)': False, 'contains(how)': False, 'contains(more)': False, 'contains(great)': False, 'contains(our)': False, 'contains(im)': True, 'contains(got)': False, 'contains(still)': False, 'contains(as)': False, 'contains(sorry)': False, 'contains(would)': False, 'contains(am)': False, 'contains(been)': False, 'contains(she)': False, 'contains(an)': False, 'contains(us)': False, 'contains(work)': False, 'contains(some)': True, 'contains(its)': False, 'contains(going)': False, \"contains('ve)\": False, 'contains(need)': False, 'contains(again)': False, 'contains(oh)': False, 'contains(gt)': False, 'contains(p)': False, 'contains(*)': False, 'contains(only)': False, 'contains(them)': False, 'contains(well)': False, 'contains(let)': False, 'contains(morning)': False, 'contains(feel)': False, 'contains(people)': False, 'contains(wan)': False, 'contains(very)': False, 'contains(could)': False, 'contains(friday)': False, 'contains(sad)': False, 'contains(think)': False, 'contains(make)': False, 'contains(always)': False, 'contains(followed)': False, 'contains(sleep)': False, 'contains(yes)': False, 'contains(or)': False, 'contains(had)': False, 'contains(nice)': False, 'contains(snapchat)': False, 'contains(week)': False, 'contains(last)': False, 'contains(being)': False, 'contains(x)': False, 'contains(has)': False, 'contains(night)': False, 'contains(come)': False, 'contains(then)': False, 'contains(lol)': False, 'contains(justinbieber)': False, 'contains(guys)': False, 'contains(wish)': False, 'contains(hey)': False, 'contains(her)': False, 'contains(him)': False, 'contains(lot)': False, 'contains(even)': True, 'contains(because)': False, 'contains(weekend)': False, 'contains(who)': False, 'contains(right)': False, 'contains(....)': False, 'contains(birthday)': False, 'contains(never)': False, 'contains(2)': False, \"contains(')\": False, 'contains(someone)': False, 'contains(soon)': False, 'contains(via)': False, 'contains(by)': False, 'contains(home)': False, 'contains(kik)': False, 'contains(looking)': False, 'contains(1)': False, 'contains(days)': False, 'contains(fun)': False, 'contains(same)': False, 'contains(any)': False, 'contains(does)': False, 'contains(yeah)': False, 'contains(better)': False, 'contains(next)': False, 'contains(way)': True, 'contains(best)': False, 'contains(everyone)': False, 'contains(bad)': False, 'contains(sure)': False, 'contains(haha)': False, 'contains(look)': False, 'contains(help)': False, 'contains(keep)': False, 'contains(life)': False, 'contains(already)': False, 'contains(say)': False, 'contains(where)': False, 'contains(off)': False, 'contains(getting)': False, 'contains(omg)': False, 'contains(okay)': False, 'contains(done)': False, 'contains(though)': False, 'contains(first)': False, 'contains(made)': False, 'contains(tomorrow)': False, 'contains(watch)': False, 'contains(over)': False, 'contains(welcome)': False, 'contains(long)': False, 'contains(take)': False, 'contains(gon)': False, 'contains(hello)': False, 'contains(his)': False, 'contains(were)': False, 'contains(♛♛♛)': False, 'contains(lovely)': False, 'contains(give)': False, 'contains(cute)': False, 'contains(arrived)': False, 'contains(ok)': False, 'contains(wait)': False, 'contains(find)': False, 'contains(dont)': False, 'contains(enjoy)': False, 'contains(start)': False, 'contains(than)': False, 'contains(should)': False, 'contains(hate)': False, 'contains(thing)': False, 'contains(amazing)': False, 'contains(ur)': False, 'contains(jnlazts)': False, 'contains(//t.co/rcvcyyo0iq)': False, 'contains(before)': False, 'contains(cant)': False, 'contains(hear)': False, 'contains(working)': False, 'contains(year)': False, 'contains(baby)': False, 'contains(wo)': False, 'contains(stats)': False, 'contains(unfollowers)': False, 'contains(many)': False, 'contains(check)': False, 'contains(xx)': False, 'contains(twitter)': False, 'contains(down)': False, 'contains(bc)': False, 'contains(after)': False, 'contains(bestfriend)': False, 'contains(tweet)': False, 'contains(thought)': False, 'contains(dm)': False, \"contains('d)\": False, 'contains(something)': False, 'contains(looks)': False, 'contains(those)': False, 'contains(things)': False, 'contains(free)': False, 'contains(having)': False, 'contains(also)': False, 'contains(pls)': False, 'contains(big)': False, 'contains(such)': False, 'contains(these)': False, 'contains(beautiful)': False, 'contains(doing)': False, 'contains(job)': False, 'contains(friends)': False, 'contains(talk)': False, 'contains(their)': False, 'contains(smile)': False, 'contains(man)': False, 'contains(—)': False, 'contains(loves)': False, 'contains(ever)': False, 'contains(meet)': True, 'contains(little)': False, 'contains(friend)': False, 'contains(another)': False, 'contains(following)': False, 'contains(since)': False, 'contains(tired)': False, 'contains(makes)': False, 'contains(try)': False, 'contains(said)': False, 'contains(phone)': False, 'contains(live)': False, 'contains(’)': False, 'contains(girl)': False, 'contains(add)': False, 'contains(ff)': False, 'contains(most)': False, 'contains(shit)': False, 'contains(sick)': False, 'contains(awesome)': False, 'contains(feeling)': False, 'contains(yet)': False, 'contains(other)': False, 'contains(hard)': False, 'contains(news)': False, 'contains(stop)': False, 'contains(video)': False, 'contains(follower)': False, 'contains(glad)': False, 'contains(rain)': False, 'contains(play)': False, 'contains(which)': False, 'contains(bam)': False, 'contains(stay)': False, 'contains(maybe)': False, 'contains(true)': False, 'contains(went)': False, 'contains(tonight)': False, 'contains(team)': False, 'contains(barsandmelody)': False, 'contains(969horan696)': False, 'contains(warsaw)': False, 'contains(world)': False, 'contains(wrong)': False, 'contains(mean)': False, 'contains(call)': False, 'contains(enough)': False, 'contains(waiting)': False, 'contains(real)': False, 'contains(tell)': False, 'contains(cool)': False, 'contains(anything)': False, 'contains(coming)': False, 'contains(fuck)': False, 'contains(end)': False, 'contains(away)': False, 'contains(nothing)': False, 'contains(hours)': False, 'contains(show)': False, 'contains(school)': False, 'contains(every)': False, 'contains(few)': False, 'contains(win)': False, 'contains(two)': False, 'contains(ice)': False, 'contains(retweet)': False, 'contains(poor)': False, 'contains(hot)': False, 'contains(actually)': False, 'contains(game)': False, 'contains(tho)': False, 'contains(left)': False, 'contains(until)': False, 'contains(ask)': False, 'contains(while)': False, 'contains(saw)': False, 'contains(read)': False, 'contains(busy)': False, 'contains(finally)': False, 'contains(may)': False, 'contains(into)': False, 'contains(might)': False, 'contains(watching)': False, 'contains(n)': False, 'contains(weather)': False, 'contains(cream)': False, 'contains(ready)': False, 'contains(city)': False, 'contains(movie)': False, 'contains(ya)': False, 'contains(song)': False, 'contains(around)': False, 'contains(god)': False, 'contains(without)': False, 'contains(myself)': False, 'contains(music)': False, 'contains(use)': False, 'contains(.....)': False, 'contains(full)': False, 'contains(late)': False, 'contains(must)': False, 'contains(leave)': False, 'contains(4)': False, 'contains(》》》》)': False, 'contains(beli̇eve)': False, 'contains(wi̇ll)': False, 'contains(justi̇n)': False, 'contains(》》》》ｓｅｅ)': False, 'contains(ｍｅ)': False, 'contains(luck)': False, 'contains(visit)': False, 'contains(playing)': False, 'contains(seeing)': False, 'contains(missed)': False, 'contains(6)': False, 'contains(followers)': False, 'contains(account)': False, 'contains(place)': False, 'contains(summer)': False, 'contains(once)': False, 'contains(used)': False, 'contains(youtube)': False, 'contains(kind)': False, 'contains(far)': False, 'contains(forward)': False, 'contains(pretty)': False, 'contains(trying)': False, 'contains(bit)': False, 'contains(top)': False, 'contains(asleep)': False, 'contains(seen)': False, 'contains(both)': False, 'contains(support)': False, 'contains(heart)': False, 'contains(concert)': False, 'contains(happened)': False, 'contains(rest)': False, 'contains(community)': False, 'contains(aw)': False, 'contains(missing)': False, 'contains(wow)': False, 'contains(fan)': False, 'contains(money)': False, 'contains(aww)': False, 'contains(damn)': False, 'contains(hair)': False, 'contains(r)': False, 'contains(notice)': False, 'contains(idea)': False, 'contains(least)': False, 'contains(everything)': False, 'contains(able)': False, 'contains(email)': False, 'contains(head)': False, 'contains(cause)': False, 'contains(later)': False, 'contains(dream)': False, 'contains(years)': False, 'contains(change)': False, 'contains(remember)': False, 'contains(times)': False, 'contains(ah)': False, 'contains(wanted)': False, 'contains(blog)': False, 'contains(/)': False, 'contains(idk)': False, 'contains(5)': False, 'contains(old)': False, 'contains(ha)': False, 'contains(face)': False, 'contains(tweets)': False, 'contains(dear)': False, 'contains(making)': False, 'contains(link)': False, 'contains(food)': False, 'contains(care)': False, 'contains(share)': False, 'contains(ago)': False, 'contains(fucking)': False, 'contains(t)': False, 'contains(gone)': False, 'contains(anyone)': True, 'contains(ugh)': False, 'contains(mine)': False, 'contains(lost)': False, 'contains(hopefully)': False, 'contains(s)': False, 'contains(bed)': False, 'contains(post)': False, 'contains(sounds)': False, 'contains(online)': False, 'contains(mind)': False, 'contains(app)': False, 'contains(fback)': False, 'contains(wonderful)': False, 'contains(thats)': False, 'contains(till)': False, 'contains(sweet)': False, 'contains(party)': False, 'contains(super)': False, 'contains(family)': False, 'contains(excited)': False, 'contains(talking)': False, 'contains(pic)': False, 'contains(weeks)': False, 'contains(country)': False, 'contains(guess)': False, 'contains(found)': False, 'contains(bro)': False, 'contains(stream)': False, 'contains(body)': False, 'contains(funny)': False, 'contains(close)': False, 'contains(didnt)': False, 'contains(followfriday)': False, 'contains(hahaha)': False, 'contains(sometimes)': False, 'contains(goodnight)': False, 'contains(babe)': False, 'contains(sharing)': False, 'contains(person)': False, 'contains(course)': False, 'contains(means)': False, 'contains(name)': False, 'contains(lucky)': False, 'contains(anyway)': False, 'contains(stuff)': False, 'contains(perfect)': False, 'contains($)': False, 'contains(tried)': False, 'contains(girls)': False, 'contains(either)': False, 'contains(cry)': False, 'contains(mom)': False, 'contains(book)': False, 'contains(order)': False, 'contains(hurts)': False, 'contains(buy)': False, 'contains(anymore)': False, 'contains(believe)': False, 'contains(eat)': False, 'contains(zayniscomingbackonjuly26)': False, 'contains(whole)': False, 'contains(came)': False, 'contains(crying)': False, 'contains(w)': False, 'contains(congrats)': False, 'contains(photo)': False, 'contains(forget)': False, 'contains(open)': False, 'contains(saying)': False, 'contains(definitely)': False, 'contains(mention)': False, 'contains(part)': False, 'contains(sucks)': False, 'contains(trip)': False, 'contains(kinda)': False, 'contains(put)': False, 'contains(favourite)': False, 'contains(pain)': False, 'contains(yesterday)': False, 'contains(unfortunately)': False, 'contains(literally)': False, 'contains(chat)': False, 'contains(10)': False, 'contains(boy)': False, 'contains(holiday)': False, 'contains(text)': False, 'contains(af)': False, 'contains(bored)': False, 'contains(“)': False, 'contains(”)': False, 'contains(hurt)': False, 'contains(rn)': False, 'contains(hungry)': False, 'contains(xxx)': False, 'contains(send)': False, 'contains(travel)': False, 'contains(listen)': False, 'contains(problem)': False, 'contains(moment)': False, 'contains(own)': False, 'contains(final)': False, 'contains(london)': False, 'contains(almost)': False, 'contains(hour)': False, 'contains(bring)': False, 'contains(pick)': False, 'contains(follback)': False, 'contains(through)': False, 'contains(wsalelove)': False, 'contains(hai)': False, 'contains(album)': False, 'contains(sexy)': False, 'contains(words)': False, 'contains(info)': False, 'contains(early)': False, 'contains(appreciate)': False, 'contains(pass)': False, 'contains(cheers)': False, 'contains(m)': False, 'contains(shame)': False, 'contains(july)': False, 'contains(touch)': False, 'contains(available)': False, 'contains(set)': False, 'contains(youth)': False, 'contains(opportunities)': False, 'contains(needs)': False, 'contains(ill)': False, 'contains(house)': False, 'contains(others)': False, 'contains(says)': False, 'contains(light)': False, 'contains(month)': False, 'contains(proud)': False, 'contains(huhu)': False, 'contains(awww)': False, 'contains(sa)': False, 'contains(side)': False, 'contains(thinking)': False, 'contains(wants)': True, 'contains(paper)': False, 'contains(hornykik)': False, 'contains(fall)': False, 'contains(design)': False, 'contains(tbh)': False, 'contains(awake)': False, 'contains(hugs)': False, 'contains(join)': False, 'contains(yay)': False, 'contains(tolajobjobs)': False, 'contains(started)': False, 'contains(hoping)': False, 'contains(8)': False, 'contains(woke)': False, 'contains(goodbye)': False, 'contains(point)': False, 'contains(monday)': False, 'contains(uber)': False, 'contains(saturday)': False, 'contains(fair)': False, 'contains(kikgirl)': False, 'contains(understand)': False, 'contains(picture)': False, 'contains(hug)': False, 'contains(chance)': False, 'contains(story)': False, 'contains(y)': False, 'contains(happen)': False, 'contains(catch)': False, 'contains(2015)': False, 'contains(eyes)': False, 'contains(number)': False, 'contains(sunday)': False, 'contains(--)': False, 'contains(probably)': False, 'contains(short)': False, 'contains(alone)': False, 'contains(inside)': False, 'contains(sir)': False, 'contains(raining)': False, 'contains(store)': False, 'contains(jaymcguiness)': False, 'contains(20)': False, 'contains(cat)': False, 'contains(took)': False, 'contains(forgot)': False, 'contains(btw)': False, 'contains(harry)': False, 'contains(sent)': False, 'contains(fine)': False, 'contains(reason)': False, 'contains(%)': False, 'contains(due)': False, 'contains(impastel)': False, 'contains(boys)': False, 'contains(bhaktisbanter)': False, 'contains(flipkartfashionfriday)': False, 'contains(works)': False, 'contains(reading)': False, 'contains(♥)': False, 'contains(yours)': False, 'contains(dog)': False, 'contains(bday)': False, 'contains(half)': False, 'contains(else)': False, 'contains(future)': False, 'contains(told)': False, 'contains(wake)': False, 'contains(bae)': False, 'contains(three)': False, 'contains(asked)': False, 'contains(pics)': False, 'contains(dude)': False, 'contains(wtf)': False, 'contains(worst)': False, 'contains(cold)': False, 'contains(members)': False, 'contains(guy)': False, 'contains(kikmeboys)': False, 'contains(bye)': False, 'contains(totally)': False, 'contains(invite)': False, 'contains(black)': False, 'contains(room)': False, 'contains(finished)': False, 'contains(agree)': False, 'contains(tickets)': False, 'contains(issue)': False, 'contains(scared)': False, 'contains(gift)': False, 'contains(stupid)': False, 'contains(mum)': False, 'contains(answer)': False, 'contains(ta)': False, 'contains(leaving)': False, 'contains(months)': False, 'contains([)': False, 'contains(])': False, 'contains(word)': False, 'contains(la)': False, 'contains(lmao)': False, 'contains(stage)': False, 'contains(thx)': False, 'contains(lets)': False, 'contains(ubericecream)': False, 'contains(gets)': False, 'contains(different)': False, 'contains(feels)': False, 'contains(car)': False, 'contains(list)': False, 'contains(feedback)': False, 'contains(indiemusic)': False, 'contains(favorite)': False, 'contains(worth)': False, 'contains(wishing)': False, 'contains(cake)': False, 'contains(fans)': False, 'contains(thankyou)': False, 'contains(terrible)': False, 'contains(pleasure)': False, 'contains(weird)': False, 'contains(near)': False, 'contains(dress)': False, 'contains(kids)': False, 'contains(brain)': False, 'contains(second)': False, 'contains(–)': False, 'contains(b)': False, 'contains(wforwoman)': False, 'contains(sun)': False, 'contains(tour)': False, 'contains(easy)': False, 'contains(heard)': False, 'contains(loved)': False, 'contains(hell)': False, 'contains(worry)': False, 'contains(~)': False, 'contains(havent)': False, 'contains(forever)': False, 'contains(bet)': False, 'contains(teenchoice)': False, 'contains(sore)': False, 'contains(starts)': False, 'contains(24)': False, 'contains(meeting)': True, 'contains(dead)': False, 'contains(case)': False, 'contains(save)': False, 'contains(kid)': False, 'contains(seems)': False, 'contains(keeps)': False, 'contains(rude)': False, 'contains(kikhorny)': False, 'contains(gorgeous)': False, 'contains(sound)': False, 'contains(ate)': False, 'contains(longer)': False, 'contains(chocolate)': False, 'contains(happiness)': False, 'contains(enjoyed)': False, 'contains(_)': False, 'contains(100)': False, 'contains(drive)': False, 'contains(v)': False, 'contains(high)': False, 'contains(hit)': False, 'contains(fab)': False, 'contains(waking)': False, 'contains(office)': False, 'contains(yep)': False, 'contains(outside)': False, 'contains(together)': False, 'contains(wont)': False, 'contains(knew)': False, 'contains(plans)': False, 'contains(season)': False, 'contains(fav)': False, 'contains(question)': False, 'contains(using)': False, 'contains(plan)': False, 'contains(quite)': False, 'contains(fantastic)': False, 'contains(small)': False, 'contains(broken)': False, 'contains(huge)': False, 'contains(congratulations)': False, 'contains(low)': False, 'contains(cut)': False, 'contains(website)': False, 'contains(single)': False, 'contains(games)': False, 'contains(infinite)': False, 'contains(site)': False, 'contains(choiceinternationalartist)': False, 'contains(superjunior)': False, 'contains(dad)': False, 'contains(during)': False, 'contains(reply)': False, 'contains(write)': False, 'contains(deserve)': False, 'contains(dreams)': False, 'contains(fucked)': False, 'contains(rt)': False, 'contains(awful)': False, 'contains(sigh)': False, 'contains(zaynmalik)': False, 'contains(size)': False, 'contains(nope)': False, 'contains(😂)': False, 'contains(real_liam_payne)': False, 'contains(g)': False, 'contains(interested)': False, 'contains(water)': False, 'contains(park)': False, 'contains(uk)': False, 'contains(jealous)': False, 'contains(shop)': False, 'contains(blue)': False, 'contains(channel)': False, 'contains(12)': False, 'contains(rip)': False, 'contains(dots)': False, 'contains(fell)': False, 'contains(version)': False, 'contains(view)': False, 'contains(earlier)': False, 'contains(die)': False, 'contains(fix)': False, 'contains(stress)': False, 'contains(turn)': False, 'contains(afternoon)': False, 'contains(ko)': False, 'contains(fb)': False, 'contains(choice)': False, 'contains(sending)': False, 'contains(group)': False, 'contains(feelings)': False, 'contains(lunch)': False, 'contains(liked)': False, 'contains(wet)': False, 'contains(page)': False, 'contains(art)': False, 'contains(stuck)': False, 'contains(lots)': False, 'contains(ugly)': False, 'contains(english)': False, 'contains(running)': False, 'contains(strong)': False, 'contains(sadly)': False, 'contains(driving)': False, 'contains(dying)': False, 'contains(quick)': False, 'contains(run)': False, 'contains(comes)': False, 'contains(adeccowaytowork)': False, 'contains(address)': False, 'contains(gutted)': False, 'contains(episode)': False, 'contains(vidcon)': False, 'contains(kikmenow)': False, 'contains(videos)': False, 'contains(special)': False, 'contains(code)': False, 'contains(awwww)': False, 'contains(needed)': False, 'contains(smiling)': False, 'contains(|)': False, 'contains(tea)': False, 'contains(influencers)': False, 'contains(mins)': False, 'contains(sex)': False, 'contains(followback)': False, 'contains(listening)': False, 'contains(pay)': False, 'contains(ahh)': False, 'contains(drop)': False, 'contains(bag)': False, 'contains(+)': False, 'contains(k)': False, 'contains(message)': False, 'contains(ive)': False, 'contains(parents)': False, 'contains(model)': False, 'contains(card)': False, 'contains(gave)': False, 'contains(id)': False, 'contains(appreciated)': False, 'contains(brother)': False, 'contains(selfie)': False, 'contains(mad)': False, 'contains(whats)': False, 'contains(release)': False, 'contains(august)': False, 'contains(//t.co/uzoaqrowkx)': False, 'contains(badly)': False, 'contains(questions)': False, 'contains(move)': False, 'contains(class)': False, 'contains(iphone)': False, 'contains(match)': False, 'contains(crazy)': False, 'contains(worse)': False, 'contains(finish)': False, 'contains(movies)': False, 'contains(watched)': False, 'contains(towns)': False, 'contains(bb)': False, 'contains(taking)': False, 'contains(happens)': False, 'contains(slow)': False, 'contains(internet)': False, 'contains(ceo1month)': False, 'contains(wife)': False, 'contains(click)': False, 'contains(cheese)': False, 'contains(voice)': False, 'contains(become)': False, 'contains(tuesday)': False, 'contains(5sos)': False, 'contains(photos)': False, 'contains(men)': False, 'contains(songs)': False, 'contains(line)': False, 'contains(❤️)': False, 'contains(xd)': False, 'contains(goes)': False, 'contains(apparently)': False, 'contains(met)': False, 'contains(hehe)': False, 'contains(braindots)': False, 'contains(fast)': False, 'contains(7)': False, 'contains(tgif)': False, 'contains(ty)': False, 'contains(sooo)': False, 'contains(kiksexting)': False, 'contains(o)': False, 'contains(brilliant)': False, 'contains(wonder)': False, 'contains(lil)': False, 'contains(less)': False, 'contains(yo)': False, 'contains(shopping)': False, 'contains(littlemix)': False, 'contains(absolutely)': False, 'contains(oppa)': False, 'contains(sleeping)': False, 'contains(walk)': False, 'contains(received)': False, 'contains(sign)': False, 'contains(sunshine)': False, 'contains(dark)': False, 'contains(coffee)': False, 'contains(warm)': False, 'contains(james)': False, 'contains(bitch)': False, 'contains(hold)': False, 'contains(ohh)': False, 'contains(instead)': False, 'contains(h)': False, 'contains(giveaway)': False, 'contains(white)': False, 'contains(instagram)': False, 'contains(pictures)': False, 'contains(exactly)': False, 'contains(nobody)': False, 'contains(mr)': False, 'contains(rock)': False, 'contains(//t.co/ext098yq1b)': False, 'contains(update)': False, 'contains(ai)': False, 'contains(offer)': False, 'contains(vote)': False, 'contains(thesis)': False, 'contains(tl)': False, 'contains(leeds)': False, 'contains(article)': False, 'contains(supporting)': False, 'contains(somewhere)': False, 'contains(15)': False, 'contains(annoying)': False, 'contains(box)': False, 'contains(…)': False, 'contains(seriously)': False, 'contains(red)': False, 'contains(tweeting)': False, 'contains(zayn)': False, 'contains(......)': False, 'contains(bought)': False, 'contains(lose)': False, 'contains(amber)': False, 'contains(beat)': False, 'contains(taken)': False, 'contains(date)': False, 'contains(indeed)': False, 'contains(13)': False, 'contains(quote)': False, 'contains(luke)': False, 'contains(train)': False, 'contains(finding)': False, 'contains(youre)': False, 'contains(yup)': False, 'contains(gym)': False, 'contains(woman)': False, 'contains(training)': False, 'contains(surprise)': False, 'contains(uniteblue)': False, 'contains(asking)': False, 'contains(yourself)': False, 'contains(throat)': False, 'contains(madrid)': False, 'contains(kikchat)': False, 'contains(safe)': False, 'contains(ass)': False, 'contains(past)': False, 'contains(killing)': False, 'contains(beach)': False, 'contains(front)': False, 'contains(possible)': False, 'contains(green)': False, 'contains(learn)': False, 'contains(queen)': False, 'contains(failed)': False, 'contains(eating)': False, 'contains(facebook)': False, 'contains(added)': False, 'contains(c)': False, 'contains(serious)': False, 'contains(everyday)': False, 'contains(likes)': False, 'contains(bank)': False, 'contains(each)': False, 'contains(broke)': False, 'contains(interesting)': False, 'contains(kidding)': False, 'contains(swear)': False, 'contains(collection)': False, 'contains(ka)': False, 'contains(hurry)': False, 'contains(upset)': False, 'contains(9)': False, 'contains(slept)': False, 'contains(power)': False, 'contains(bby)': False, 'contains(details)': False, 'contains(2nd)': False, 'contains(kikme)': False, 'contains(tom)': False, 'contains(←)': False, 'contains(aqui)': False, 'contains(aint)': False, 'contains(exciting)': False, 'contains(currently)': False, 'contains(skype)': False, 'contains(wicked)': False, 'contains(called)': False, 'contains(festival)': False, 'contains(french)': False, 'contains(stopped)': False, 'contains(radio)': False, 'contains(completely)': False, 'contains(headache)': False, 'contains(chris)': False, 'contains(alright)': False, 'contains(trust)': False, 'contains(books)': False, 'contains(under)': False, 'contains(turned)': False, 'contains(along)': False, 'contains(living)': False, 'contains(solo)': False, 'contains(ignore)': False, 'contains(lonely)': False, 'contains(^_^)': False, 'contains(usually)': False, 'contains(peace)': False, 'contains(contact)': False, 'contains(waste)': False, 'contains(spend)': False, 'contains(chicken)': False, 'contains(holidays)': False, 'contains(😭)': False, 'contains(liam)': False, 'contains(windows)': False, 'contains(tcot)': False, 'contains(event)': False, 'contains(oops)': False, 'contains(vacation)': False, 'contains(=)': False, 'contains(writing)': False, 'contains(ended)': False, 'contains(airport)': False, 'contains(felt)': False, 'contains(hotel)': False, 'contains(town)': False, 'contains(pa)': False, 'contains(emilybett)': False, 'contains(four)': False, 'contains(original)': False, 'contains(gay)': False, 'contains(horrible)': False, 'contains(ones)': False, 'contains(chill)': False, 'contains(boring)': False, 'contains(huh)': False, 'contains(stomach)': False, 'contains(gold)': False, 'contains(download)': False, 'contains(don)': False, 'contains(mate)': False, 'contains(uberuk)': False, 'contains(ma)': False, 'contains(australia)': False, 'contains(tagsforlikes)': False, 'contains(plz)': False, 'contains(acc)': False, 'contains(tv)': False, 'contains(dinner)': False, 'contains(shout)': False, 'contains(fever)': False, 'contains(middle)': False, 'contains(fingers)': False, 'contains(regret)': False, 'contains(rather)': False, 'contains(test)': False, 'contains(ang)': False, 'contains(drink)': False, 'contains(w/)': False, 'contains(khan)': False, 'contains(otherwise)': False, 'contains(facetime)': False, 'contains(rafaelallmark)': False, 'contains(checked)': False, 'contains(neither)': False, 'contains(cuz)': False, 'contains(unfollow)': False, 'contains(ticket)': False, 'contains(secret)': False, 'contains(angry)': False, 'contains(plays)': False, 'contains(wedding)': False, 'contains(timing)': False, 'contains(breakfast)': False, 'contains(minutes)': False, 'contains(buddy)': False, 'contains(gosh)': False, 'contains(suck)': False, 'contains(shall)': False, 'contains(booked)': False, 'contains(e)': False, 'contains(cc)': False, 'contains(connect)': False, 'contains(active)': False, 'contains(vid)': False, 'contains(google)': False, 'contains(corn)': False, 'contains(truly)': False, 'contains(takes)': False, 'contains(ruined)': False, 'contains(enjoying)': False, 'contains(air)': False, 'contains(pray)': False, 'contains(club)': False, 'contains(important)': False, 'contains(seem)': False, 'contains(series)': False, 'contains(kikmeguys)': False, 'contains(confused)': False, 'contains(looked)': False, 'contains(paid)': False, 'contains(allowed)': False, 'contains(worries)': False, 'contains(isnt)': False, 'contains(sister)': False, 'contains(computer)': False, 'contains(calm)': False, 'contains(couple)': False, 'contains(kiksex)': False, 'contains(matter)': False, 'contains(selenagomez)': False, 'contains(positive)': False, 'contains(folks)': False, 'contains(bus)': False, 'contains(helping)': False, 'contains(business)': False, 'contains(😊)': False, 'contains(da)': False, 'contains(breaking)': False, 'contains(certain)': False, 'contains(mood)': False, 'contains(hahahaha)': False, 'contains(nose)': False, 'contains(wifi)': False, 'contains(✧)': False, 'contains(sort)': False, 'contains(truth)': False, 'contains(.plz)': False, 'contains(everywhere)': False, 'contains(fact)': False, 'contains(boyfriend)': False, 'contains(goodmorning)': False, 'contains(england)': False, 'contains(shot)': False, 'contains(earth)': False, 'contains(matt)': False, 'contains(supposed)': False, 'contains(hand)': False, 'contains(barely)': False, 'contains(service)': False, 'contains(shift)': False, 'contains(bio)': False, 'contains(break)': False, 'contains(srsly)': False, 'contains(latest)': False, 'contains(hun)': False, 'contains(pool)': False, 'contains(blessed)': False, 'contains(flight)': False, 'contains(smh)': False, 'contains(cars)': False, 'contains(11)': False, 'contains(data)': False, 'contains(kunoriforceo)': False, 'contains(biggest)': False, 'contains(bravefrontiergl)': False, 'contains(♡)': False, 'contains(area)': False, 'contains(especially)': False, 'contains(inactive)': False, 'contains(meant)': False, 'contains(deal)': False, 'contains(bi0)': False, 'contains(act)': False, 'contains(project)': False, 'contains(plus)': False, 'contains(carterreynolds)': False, 'contains(bath)': False, 'contains(skin)': False, 'contains(schedule)': False, 'contains(pallaviruhail)': False, 'contains(hacked)': False, 'contains(ball)': False, 'contains(create)': False, 'contains(realized)': False, 'contains(giving)': False, 'contains(craving)': False, 'contains(planning)': False, 'contains(women)': False, 'contains(hang)': False, 'contains(louis)': False, 'contains(fly)': False, 'contains(outfit)': False, 'contains(alex)': False, 'contains(luv)': False, 'contains(young)': False, 'contains(mother)': False, 'contains(record)': False, 'contains(supports)': False, 'contains(bajrangibhaijaanhighestweek1)': False, 'contains(relationship)': False, 'contains(pizza)': False, 'contains(child)': False, 'contains(engaged)': False, 'contains(noooo)': False, 'contains(icecream)': False, 'contains(doesnt)': False, 'contains(five)': False, 'contains(expensive)': False, 'contains(changed)': False, 'contains(ship)': False, 'contains(stefaniescott)': False, 'contains(minecraft)': False, 'contains(japanese)': False, 'contains(soul)': False, 'contains(dan)': False, 'contains(kitchen)': False, 'contains(complete)': False, 'contains(scary)': False, 'contains(asap)': False, 'contains(law)': False, 'contains(unfair)': False, 'contains(wear)': False, 'contains(nights)': False, 'contains(otwolgrandtrailer)': False, 'contains(provide)': False, 'contains(lack)': False, 'contains(john)': False, 'contains(within)': False, 'contains(mistake)': False, 'contains(style)': False, 'contains(cover)': False, 'contains(beamiller)': False, 'contains(points)': False, 'contains(sense)': False, 'contains(allah)': False, 'contains(jacob)': False, 'contains(paris)': False, 'contains(sing)': False, 'contains(joined)': False, 'contains(sis)': False, 'contains(ears)': False, 'contains(tag)': False, 'contains(ppl)': False, 'contains(spent)': False, 'contains(playlist)': False, 'contains(eye)': False, 'contains(film)': False, 'contains(afford)': False, 'contains(interest)': False, 'contains(between)': False, 'contains(session)': False, 'contains(load)': False, 'contains(speak)': False, 'contains(dogs)': False, 'contains(sunny)': False, 'contains(entire)': False, 'contains(android)': False, 'contains(snap)': False, 'contains(cup)': False, 'contains(vs)': False, 'contains(apple)': False, 'contains(louis_tomlinson)': False, 'contains(putting)': False, 'contains(angelhairhes)': False, 'contains(calls)': False, 'contains(sale)': False, 'contains(space)': False, 'contains(promise)': False, 'contains(company)': False, 'contains(al)': False, 'contains(til)': False, 'contains(michael)': False, 'contains(quit)': False, 'contains(review)': False, 'contains(extra)': False, 'contains(nearly)': False, 'contains(products)': False, 'contains(conversation)': False, 'contains(ahead)': False, 'contains(information)': False, 'contains(panda)': False, 'contains(whenever)': False, 'contains(officially)': False, 'contains(human)': False, 'contains(yah)': False, 'contains(sponsor)': False, 'contains(turning)': False, 'contains(places)': False, 'contains(gives)': False, 'contains(worked)': False, 'contains(blood)': False, 'contains(door)': False, 'contains(asian)': False, 'contains(calling)': False, 'contains(hands)': False, 'contains(follows)': False, 'contains(tummy)': False, 'contains(success)': False, 'contains(fam)': False, 'contains(college)': False, 'contains(normal)': False, 'contains(mentioned)': False, 'contains(jack)': False, 'contains(niall)': False, 'contains(honestly)': False, 'contains(lady)': False, 'contains(traffic)': False, 'contains(whatsapp)': False, 'contains(twitch)': False, 'contains(wat)': False, 'contains(league)': False, 'contains(ed)': False, 'contains(memories)': False, 'contains(stand)': False, 'contains(anytime)': False, 'contains(interview)': False, 'contains(theres)': False, 'contains(ran)': False, 'contains(enter)': False, 'contains(stars)': False, 'contains(likeforlike)': False, 'contains(station)': False, 'contains(planned)': False, 'contains(clothes)': False, 'contains(streaming)': False, 'contains(killed)': False, 'contains(choose)': False, 'contains(september)': False, 'contains(alice)': False, 'contains(changes)': False, 'contains(spree)': False, 'contains(views)': False, 'contains(pro)': False, 'contains(cutie)': False, 'contains(ni)': False, 'contains(got7)': False, 'contains(anybody)': False, 'contains(quacketyquack)': False, 'contains(comment)': False, 'contains(pack)': False, 'contains(kit)': False, 'contains(keeping)': False, 'contains(unless)': False, 'contains(shows)': False, 'contains(edit)': False, 'contains(jgh)': False, 'contains(fr)': False, 'contains(roll)': False, 'contains(feed)': False, 'contains(signed)': False, 'contains(injured)': False, 'contains(hahah)': False, 'contains(pussy)': False, 'contains(disappointed)': False, 'contains(makeup)': False, 'contains(ignored)': False, 'contains(wrote)': False, 'contains(happyfriday)': False, 'contains(recent)': False, 'contains(played)': False, 'contains(drawing)': False, 'contains(3rd)': False, 'contains(behind)': False, 'contains(product)': False, 'contains(ladies)': False, 'contains(like4like)': False, 'contains(delighted)': False, 'contains(garden)': False, 'contains(hannibal)': False, 'contains(gf)': False, 'contains(anniversary)': False, 'contains(burger)': False, 'contains(lord)': False, 'contains(everybody)': False, 'contains(sell)': False, 'contains(moving)': False, 'contains(nudes)': False, 'contains(mpoints)': False, 'contains(snapme)': False, 'contains(whoop)': False, 'contains(✧｡)': False, 'contains(chelny)': False, 'contains(｡✧)': False, 'contains(fixed)': False, 'contains(france)': False, 'contains(sold)': False, 'contains(decide)': False, 'contains(double)': False, 'contains(incredible)': False, 'contains(cheer)': False, 'contains(dis)': False, 'contains(50)': False, 'contains(jk)': False, 'contains(40)': False, 'contains(comments)': False, 'contains(journey)': False, 'contains(apply)': False, 'contains(hospital)': False, 'contains(beauty)': False, 'contains(notanapology)': False, 'contains(mouth)': False, 'contains(rly)': False, 'contains(easier)': False, 'contains(imagine)': False, 'contains(dropped)': False, 'contains(starbucks)': False, 'contains(z)': False, 'contains(main)': False, 'contains(suppose)': False, 'contains(connecting)': False, 'contains(di)': False, 'contains(apart)': False, 'contains(vikkfollows)': False, 'contains(cancelled)': False, 'contains(sorted)': False, 'contains(amazon)': False, 'contains(contest)': False, 'contains(won)': False, 'contains(dates)': False, 'contains(glasses)': False, 'contains(managed)': False, 'contains(present)': False, 'contains(younger)': False, 'contains(mommy)': False, 'contains(certainly)': False, 'contains(science)': False, 'contains(bill)': False, 'contains(pre)': False, 'contains(fridayfeeling)': False, 'contains(building)': False, 'contains(exam)': False, 'contains(band)': False, 'contains(driver)': False, 'contains(eh)': False, 'contains(jackgilinsky)': False, 'contains(selfies)': False, 'contains(spain)': False, 'contains(😢)': False, 'contains(snapchatme)': False, 'contains(shes)': False, 'contains(mobile)': False, 'contains(wallet)': False, 'contains(coz)': False, 'contains(twice)': False, 'contains(^^)': False, 'contains(advice)': False, 'contains(feature)': False, 'contains(honey)': False, 'contains(camera)': False, 'contains(rts)': False, 'contains(colour)': False, 'contains(pop)': False, 'contains(changing)': False, 'contains(image)': False, 'contains(closed)': False, 'contains(famous)': False, 'contains(yall)': False, 'contains(star)': False, 'contains(😘)': False, 'contains(section)': False, 'contains(ours)': False, 'contains(ng)': False, 'contains(poorly)': False, 'contains(se)': False, 'contains(ye)': False, 'contains(sam)': False, 'contains(regular)': False, 'contains(filming)': False, 'contains(talked)': False, 'contains(hmm)': False, 'contains(member)': False, 'contains(belated)': False, 'contains(wednesday)': False, 'contains(👉)': False, 'contains(💕)': False, 'contains(fellow)': False, \"contains(y'all)\": False, 'contains(spam)': False, 'contains(spirit)': False, 'contains(pleasse)': False, 'contains(re)': False, 'contains(bff)': False, 'contains(apink)': False, 'contains(forgotten)': False, 'contains(web)': False, 'contains(although)': False, 'contains(track)': False, 'contains(talks)': False, 'contains(issues)': False, 'contains(sandrabland)': False, 'contains(greet)': False, 'contains(digital)': False, 'contains(broadcast)': False, 'contains(socks)': False, 'contains(brand)': False, 'contains(gross)': False, 'contains(among)': False, 'contains(/3)': False, 'contains(delph)': False, 'contains(count)': False, 'contains(leg)': False, 'contains(cuddle)': False, 'contains(stories)': False, 'contains(5am)': False, 'contains(expect)': False, 'contains(heck)': False, 'contains(hay)': False, 'contains(psygustokita)': False, 'contains(updated)': False, 'contains(spotify)': False, 'contains(dms)': False, 'contains(lives)': False, 'contains(teeth)': False, 'contains(delivery)': False, 'contains(eid)': False, 'contains(masaantoday)': False, 'contains(massage)': False, 'contains(smart)': False, 'contains(dat)': False, 'contains(death)': False, 'contains(jesus)': False, 'contains(sea)': False, 'contains(price)': False, 'contains(board)': False, 'contains(1d)': False, 'contains(precious)': False, 'contains(virgin)': False, 'contains(knows)': False, 'contains(blocked)': False, 'contains(weeklychris)': False, 'contains(cough)': False, 'contains(mo)': False, 'contains(daddy)': False, 'contains(telling)': False, 'contains(retweeted)': False, 'contains(winter)': False, 'contains(starting)': False, 'contains(jabongatpumaurbanstampede)': False, 'contains(except)': False, 'contains(personal)': False, 'contains(painful)': False, 'contains(throw)': True, 'contains(sushi)': False, 'contains(egg)': False, 'contains(bills)': False, 'contains(le)': False, 'contains(daily)': False, 'contains(moved)': False, 'contains(sexo)': False, 'contains(laugh)': False, 'contains(dave)': False, 'contains(system)': False, 'contains(falling)': False, 'contains(decision)': False, 'contains(lie)': False, 'contains(retweets)': False, 'contains(fnaf)': False, 'contains(grabe)': False, 'contains(teens)': False, 'contains(explain)': False, 'contains(sophie)': False, 'contains(oralsex)': False, 'contains(subject)': False, 'contains(grandpa)': False, 'contains(camsex)': False, 'contains(likewise)': False, 'contains(program)': False, 'contains(justin)': False, 'contains(scope)': False, 'contains(influencer)': False, 'contains(bless)': False, 'contains(letting)': False, 'contains(amateur)': False, 'contains(packing)': False, 'contains(official)': False, 'contains(wishes)': False, 'contains(`)': False, 'contains(tweeted)': False, 'contains(yt)': False, 'contains(island)': False, 'contains(effect)': False, 'contains(return)': False, 'contains(pak)': False, 'contains(ps)': False, 'contains(ideas)': False, 'contains(taste)': False, 'contains(abt)': False, 'contains(west)': False, 'contains(afraid)': False, 'contains(freaking)': False, 'contains(imma)': False, 'contains(selena)': False, 'contains(dancing)': False, 'contains(ben)': False, 'contains(december)': False, 'contains(mental)': False, 'contains(consistency)': False, 'contains(released)': False, 'contains(indonesia)': False, 'contains(sitting)': False, 'contains(doctor)': False, 'contains(ear)': False, 'contains(-d)': False, 'contains(bot)': False, 'contains(joe)': False, 'contains(hiya)': False, 'contains(trade)': False, 'contains(surely)': False, 'contains(itunes)': False, 'contains(spazzytsukihara)': False, 'contains(ends)': False, 'contains(unnie)': False, 'contains(forehead)': False, 'contains(lately)': False, 'contains(disappoint)': False, 'contains(ouch)': False, 'contains(hella)': False, 'contains(atm)': False, 'contains(usa)': False, 'contains(🍰)': False, 'contains(pc)': False, 'contains(noticed)': False, 'contains(sit)': False, 'contains(female)': False, 'contains(ryan)': False, 'contains(excellent)': False, 'contains(evening)': False, 'contains(omegle)': False, 'contains(finger)': False, 'contains(prayers)': False, 'contains(shoot)': False, 'contains(mi)': False, 'contains(candy)': False, 'contains(fabulous)': False, 'contains(staff)': False, 'contains(.......)': False, 'contains(f)': False, 'contains(depressing)': False, 'contains(noise)': False, 'contains(total)': False, 'contains(nooo)': False, 'contains(realise)': False, 'contains(💜)': False, 'contains(treat)': False, 'contains(4th)': False, 'contains(smoke)': False, 'contains(basically)': False, 'contains(goodness)': False, 'contains(trend)': False, 'contains(oil)': False, 'contains(speaking)': False, 'contains(beth)': False, 'contains(loose)': False, 'contains(bulbs)': False, 'contains(workout)': False, 'contains(jackjackjohnson)': False, 'contains(feet)': False, 'contains(teen)': False, 'contains(photooftheday)': False, 'contains(fridays)': False, 'contains(:3)': False, 'contains(-mary)': False, 'contains(none)': False, 'contains(emotional)': False, 'contains(experience)': False, 'contains(lazy)': False, 'contains(refreshing)': False, 'contains(access)': False, 'contains(vegas)': False, 'contains(older)': False, 'contains(avi)': False, 'contains(gculloty87)': False, 'contains(knowing)': False, 'contains(empty)': False, 'contains(lesbian)': False, 'contains(climatechange)': False, 'contains(common)': False, 'contains(pm)': False, 'contains(friendly)': False, 'contains(stock)': False, 'contains(eric)': False, 'contains(alot)': False, 'contains(hashtag)': False, 'contains(beginning)': False, 'contains(noo)': False, 'contains(taxi)': False, 'contains(doubt)': False, 'contains(rose)': False, 'contains(boss)': False, 'contains(tak)': False, 'contains(talented)': False, 'contains(someday)': False, 'contains(po)': False, 'contains(probs)': False, 'contains(accounts)': False, 'contains(stunning)': False, 'contains(cakes)': False, 'contains(social)': False, 'contains(lang)': False, 'contains(massive)': False, 'contains(quickly)': False, 'contains(mubarak)': False, 'contains(rough)': False, 'contains(tomparker)': False, 'contains(❤)': False, 'contains(cried)': False, 'contains(mka)': False, 'contains(ages)': False, 'contains(onto)': False, 'contains(figured)': False, 'contains(300)': False, 'contains(difficult)': False, 'contains(removed)': False, 'contains(mega)': False, 'contains(boots)': False, 'contains(natsu1725)': False, 'contains(spot)': False, 'contains(flowers)': False, 'contains(fruit)': False, 'contains(events)': False, 'contains(shower)': False, 'contains(joking)': False, 'contains(grow)': False, 'contains(soup)': False, 'contains(response)': False, 'contains(wittykrushnic)': False, 'contains(freebiefriday)': False, 'contains(soo)': False, 'contains(praying)': False, 'contains(ily)': False, 'contains(anna)': False, 'contains(boo)': False, 'contains(banana)': False, 'contains(weight)': False, 'contains(yummy)': False, 'contains(ocean)': False, 'contains(perhaps)': False, 'contains(joy)': False, 'contains(cats)': False, 'contains(vehicles)': False, 'contains(fat)': False, 'contains(jay)': False, 'contains(nowhere)': False, 'contains(yettygeers)': False, 'contains(loving)': False, 'contains(offers)': False, 'contains(dylan)': False, 'contains(fighting)': False, 'contains(lgbt)': False, 'contains(campaign)': False, 'contains(dj)': False, 'contains(ending)': False, 'contains(india)': False, 'contains(children)': False, 'contains(awh)': False, 'contains(shooting)': False, 'contains(pure)': False, 'contains(sweetie)': False, 'contains(uh)': False, 'contains(rejected)': False, 'contains(coins)': False, 'contains(decides)': False, 'contains(road)': False, 'contains(crossed)': False, 'contains(wolf)': False, 'contains(rate)': False, 'contains(layout)': False, 'contains(student)': False, 'contains(realize)': False, 'contains(foot)': False, 'contains(kim)': False, 'contains(whatever)': False, 'contains(ew)': False, 'contains(current)': False, 'contains(imran)': False, 'contains(bout)': False, 'contains(^mm)': False, 'contains(11:11)': False, 'contains(prob)': False, 'contains(walking)': False, 'contains(tiring)': False, 'contains(fresh)': False, 'contains(jumma)': False, 'contains(ireland)': False, 'contains(itself)': False, 'contains(jungsilhoon)': False, 'contains(manager)': False, 'contains(chelsea)': False, 'contains(hes)': False, 'contains(biobio1993)': False, 'contains(kill)': False, 'contains(sunggyu)': False, 'contains(spread)': False, 'contains(beyond)': False, 'contains(media)': False, 'contains(xbox)': False, 'contains(disgusting)': False, 'contains(latin)': False, 'contains(singapore)': False, 'contains(similar)': False, 'contains(nap)': False, 'contains(ohhh)': False, 'contains(countrymusic)': False, 'contains(caught)': False, 'contains(otp)': False, 'contains(jabongindia)': False, 'contains(max)': False, 'contains(request)': False, 'contains(nah)': False, 'contains(gurmeetramrahim)': False, 'contains(ourdaughtersourpride)': False, 'contains(bra)': False, 'contains(race)': False, 'contains(married)': False, 'contains(fries)': False, 'contains(netflix)': False, 'contains(growing)': False, 'contains(angel)': False, 'contains(students)': False, 'contains(unexpected)': False, 'contains(ps4)': False, 'contains(sbs_mtv)': False, 'contains(problems)': False, 'contains(themselves)': False, 'contains(given)': False, 'contains(happening)': False, 'contains(ft)': False, 'contains(72)': False, 'contains(counting)': False, 'contains(general)': False, 'contains(situation)': False, 'contains(yesss)': False, 'contains(paying)': False, 'contains(ba)': False, 'contains(state)': False, 'contains(anxiety)': False, 'contains(liking)': False, 'contains(consider)': False, 'contains(newmusic)': False, 'contains(interracial)': False, 'contains(isco)': False, 'contains(payment)': False, 'contains(content)': False, 'contains(insurance)': False, 'contains(results)': False, 'contains(tooth)': False, 'contains(sc)': False, 'contains(gyu)': False, 'contains(webcam)': False, 'contains(delay)': False, 'contains(bestoftheday)': False, 'contains(premiostumundo)': False, 'contains(urself)': False, 'contains(llama_ajol)': False, 'contains(likeforfollow)': False, 'contains(pleased)': False, 'contains(//t.co/ipj2yoiget)': False, 'contains(booty)': False, 'contains(careful)': False, 'contains(entry)': False, 'contains(form)': False, 'contains(ikr)': False, 'contains(iamsrk)': False, 'contains(ghost)': False, 'contains(ashton5sos)': False, 'contains(gud)': False, 'contains(kita)': False, 'contains(celebrating)': False, 'contains(25)': False, 'contains(editing)': False, 'contains(turns)': False, 'contains(misses)': False, 'contains(straight)': False, 'contains(itsnotmirna)': False, 'contains(brown)': False, 'contains(avail)': False, 'contains(shoulda)': False, 'contains(possibly)': False, 'contains(king)': False, 'contains(shots)': False, 'contains(hills)': False, 'contains(taylorswift13)': False, 'contains(lfc)': False, 'contains(expert)': False, 'contains(spotting)': False, 'contains(traveling)': False, 'contains(chips)': False, 'contains(artist)': False, 'contains(sometime)': False, 'contains(agreed)': False, 'contains(dick)': False, 'contains(corner)': False, 'contains(balloon)': False, 'contains(joke)': False, 'contains(dies)': False, 'contains(seats)': False, 'contains(hulk)': False, 'contains(smiles)': False, 'contains(specialise)': False, 'contains(thermal)': False, 'contains(imaging)': False, 'contains(surveys)': False, 'contains(strength)': False, 'contains(entries)': False, 'contains(routine)': False, 'contains(alive)': False, 'contains(painting)': False, 'contains(غردلي)': False, 'contains(tix)': False, 'contains(sensodyneindia)': False, 'contains(toothsensitivity)': False, 'contains(attention)': False, 'contains(against)': False, 'contains(players)': False, 'contains(camerondallas)': False, 'contains(.........)': False, 'contains(history)': False, 'contains(bakit)': False, 'contains(distance)': False, 'contains(starving)': False, 'contains(sept)': False, 'contains(names)': False, 'contains(crush)': False, 'contains(goats)': False, 'contains(wall)': False, 'contains(ruin)': False, 'contains(gamer)': False, 'contains(reasons)': False, 'contains(police)': False, 'contains(encore)': False, 'contains(bad4thwin)': False, 'contains(labour)': False, 'contains(honest)': False}, 'positive')\n"
          ]
        }
      ]
    },
    {
      "cell_type": "markdown",
      "source": [
        "## 5. Split data into a training and testing set"
      ],
      "metadata": {
        "id": "qensXCEV9zvq"
      }
    },
    {
      "cell_type": "code",
      "source": [
        "from sklearn.model_selection import train_test_split\n",
        "\n",
        "# Split feature sets into training and testing sets\n",
        "train_set, test_set = train_test_split(feature_sets, test_size=0.2, random_state=42)\n",
        "\n",
        "# Print the sizes of the training and testing sets\n",
        "print(\"Training set size:\", len(train_set))\n",
        "print(\"Testing set size:\", len(test_set))"
      ],
      "metadata": {
        "colab": {
          "base_uri": "https://localhost:8080/"
        },
        "id": "c7RXMFDU9fjb",
        "outputId": "2216b365-ef4c-4e38-9076-e20b663473b7"
      },
      "execution_count": 30,
      "outputs": [
        {
          "output_type": "stream",
          "name": "stdout",
          "text": [
            "Training set size: 8000\n",
            "Testing set size: 2000\n"
          ]
        }
      ]
    },
    {
      "cell_type": "markdown",
      "source": [
        "## 6. Modeling"
      ],
      "metadata": {
        "id": "5lANSjX096WH"
      }
    },
    {
      "cell_type": "markdown",
      "source": [
        "### 6.1 Naive Bayes classifier"
      ],
      "metadata": {
        "id": "_HQW_dAq99Ve"
      }
    },
    {
      "cell_type": "code",
      "source": [
        "NBclassifier = nltk.NaiveBayesClassifier.train(train_set)\n",
        "\n",
        "print(\"Naive Bayes Accuracy: \", (nltk.classify.accuracy(NBclassifier, test_set)))\n",
        "NBclassifier.show_most_informative_features(10)"
      ],
      "metadata": {
        "colab": {
          "base_uri": "https://localhost:8080/"
        },
        "id": "Wgm4lP7I9yFm",
        "outputId": "544302fa-1ba9-4719-f06c-b4e45986ec3b"
      },
      "execution_count": 31,
      "outputs": [
        {
          "output_type": "stream",
          "name": "stdout",
          "text": [
            "Naive Bayes Accuracy:  0.994\n",
            "Most Informative Features\n",
            "             contains()) = True           positi : negati =     62.8 : 1.0\n",
            "             contains(() = True           negati : positi =     62.8 : 1.0\n",
            "           contains(sad) = True           negati : positi =     25.7 : 1.0\n",
            "          contains(miss) = True           negati : positi =     17.7 : 1.0\n",
            "          contains(glad) = True           positi : negati =     16.4 : 1.0\n",
            "       contains(arrived) = True           positi : negati =     15.7 : 1.0\n",
            "       contains(welcome) = True           positi : negati =     13.7 : 1.0\n",
            "         contains(hurts) = True           negati : positi =     12.9 : 1.0\n",
            "          contains(lost) = True           negati : positi =     12.9 : 1.0\n",
            "     contains(followers) = True           positi : negati =     11.5 : 1.0\n"
          ]
        }
      ]
    },
    {
      "cell_type": "markdown",
      "source": [
        "### 6.2 Modeling with sk-learn"
      ],
      "metadata": {
        "id": "GszMz7pw-nBc"
      }
    },
    {
      "cell_type": "code",
      "source": [
        "from nltk.classify.scikitlearn import SklearnClassifier\n",
        "\n",
        "from sklearn.naive_bayes import MultinomialNB\n",
        "\n",
        "MNBclassifier = SklearnClassifier(MultinomialNB())\n",
        "MNBclassifier.train(train_set)\n",
        "print(\"Multinomial Naive Bayes Accuracy: \", (nltk.classify.accuracy(MNBclassifier, test_set)))"
      ],
      "metadata": {
        "colab": {
          "base_uri": "https://localhost:8080/"
        },
        "id": "NRcl9mHp-y5H",
        "outputId": "dccf50b4-ef95-4768-b4e7-99f8b5cdf89c"
      },
      "execution_count": 32,
      "outputs": [
        {
          "output_type": "stream",
          "name": "stdout",
          "text": [
            "Multinomial Naive Bayes Accuracy:  0.973\n"
          ]
        }
      ]
    }
  ]
}